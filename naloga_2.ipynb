{
 "cells": [
  {
   "cell_type": "code",
   "execution_count": 5,
   "metadata": {},
   "outputs": [],
   "source": [
    "import pandas as pd\n",
    "import numpy as np\n",
    "import scipy.stats as stats\n",
    "from scipy.stats import t\n"
   ]
  },
  {
   "cell_type": "code",
   "execution_count": 6,
   "metadata": {},
   "outputs": [],
   "source": [
    "data = pd.read_csv(\"TempPulz.csv\")\n",
    "moski = data[data.SPOL == 1]\n",
    "zenske = data[data.SPOL == 2]\n",
    "#privzamemo da sta temperatura in spol porazdeljena normalno"
   ]
  },
  {
   "cell_type": "markdown",
   "metadata": {},
   "source": [
    "Ocenite povprečje in standardni odklon za telesno temperaturo posebej pri\n",
    "moških in posebej pri ženskah.\n"
   ]
  },
  {
   "cell_type": "code",
   "execution_count": 7,
   "metadata": {},
   "outputs": [],
   "source": [
    "m_povprecje = moski.TEMPERATURA.mean()\n",
    "z_povprecje = zenske.TEMPERATURA.mean()\n",
    "\n",
    "m_std = moski.TEMPERATURA.std(ddof=1) #ddof=1 deli z n-1 da dobimo nepristransko cenilko\n",
    "z_std = zenske.TEMPERATURA.std(ddof=1) "
   ]
  },
  {
   "cell_type": "markdown",
   "metadata": {},
   "source": [
    " Za povprečji iz prejšnje točke določite 95% intervala zaupanja."
   ]
  },
  {
   "cell_type": "markdown",
   "metadata": {},
   "source": [
    "Interval izračunamo po formuli: $$ \\Big[ \\bar{X} - \\frac{\\hat{\\sigma}}{\\sqrt{n}}F^{-1} _{Student(n-1) (1-\\frac{\\alpha}{2})}, \\bar{X} + \\frac{\\hat{\\sigma}}{\\sqrt{n}}F^{-1} _{Student(n-1) (1-\\frac{\\alpha}{2})}\\Big]$$"
   ]
  },
  {
   "cell_type": "code",
   "execution_count": 8,
   "metadata": {},
   "outputs": [],
   "source": [
    "n_m = len(moski)\n",
    "n_z = len(zenske)\n",
    "\n",
    "\n",
    "\n",
    "def interval_zaupanja_za_mi(mi, sigma, alpha, n):\n",
    "    K = sigma / np.sqrt(n) * stats.t.ppf(1-alpha/2, n-1) \n",
    "    a = mi - K\n",
    "    b = mi + K\n",
    "    return ([a,b])\n"
   ]
  },
  {
   "cell_type": "code",
   "execution_count": 9,
   "metadata": {},
   "outputs": [],
   "source": [
    "interval_moski = interval_zaupanja_za_mi(m_povprecje, m_std, 0.05, n_m)\n",
    "\n",
    "interval_zenske = interval_zaupanja_za_mi(z_povprecje, z_std, 0.05, n_z)"
   ]
  },
  {
   "cell_type": "code",
   "execution_count": 10,
   "metadata": {},
   "outputs": [
    {
     "name": "stdout",
     "output_type": "stream",
     "text": [
      "[97.93147218445705, 98.27775858477375]\n",
      "[98.20961890918225, 98.57807339851006]\n"
     ]
    }
   ],
   "source": [
    "print(interval_moski)\n",
    "print(interval_zenske)"
   ]
  },
  {
   "cell_type": "markdown",
   "metadata": {},
   "source": [
    "Preizkusite domnevo, da imajo moški in ženske v povprečju enako telesno temperaturo."
   ]
  },
  {
   "cell_type": "markdown",
   "metadata": {},
   "source": [
    "Računali bomo pri stopnji tveganja $\\alpha = 0.05$ in $\\alpha = 0.01 $. <br>\n",
    "$H_0$: Moški in ženske imajo v povprečju enako telesno temperturo.<br>\n",
    "$H_1$: Moški in ženske v povprečju nimajo iste temperature. <br>\n",
    "$H_0$: $\\mu_m = \\mu_z$ <br>\n",
    "Testna statistika: $T = \\frac{\\bar{X}_m - \\bar{X}_z + \\mu_m - \\mu_z}{\\sqrt{\\frac{\\sigma_m^2}{N_m} + \\frac{\\sigma_z^2}{N_z}}}$  <br>\n",
    "To izahaja iz vsote dveh normalnih porazdelitev, ki je spet normalna. <br>\n",
    "Če $H_0$ drži, potem je: $T = \\frac{\\bar{X}_m - \\bar{X}_z }{\\sqrt{\\frac{\\sigma_m^2}{N_m} + \\frac{\\sigma_z^2}{N_z}}} $"
   ]
  },
  {
   "cell_type": "code",
   "execution_count": 13,
   "metadata": {},
   "outputs": [
    {
     "name": "stdout",
     "output_type": "stream",
     "text": [
      "T je:  -2.2854345381654997\n"
     ]
    }
   ],
   "source": [
    "T = (m_povprecje - z_povprecje)/np.sqrt( np.square(m_std) / n_m + np.square(z_std) / n_z  )\n",
    "print(\"T je: \",T)"
   ]
  },
  {
   "cell_type": "markdown",
   "metadata": {},
   "source": [
    "Hipotezo, da sta povprečja enaka bomo zavrnili če bo $|T| > F^{-1} _{Student(v)}(1-\\alpha/2)$, kjer je $v = \\frac{(\\sigma_m^2/N_m + \\sigma_z^2/N_z )^2}{\\frac{(\\sigma_m^2/N_m)^2}{N_m - 1} +  \\frac{(\\sigma_z^2/N_z)^2}{N_z - 1}}$"
   ]
  },
  {
   "cell_type": "code",
   "execution_count": 19,
   "metadata": {},
   "outputs": [
    {
     "name": "stdout",
     "output_type": "stream",
     "text": [
      "v je:  127.5103008303909\n"
     ]
    }
   ],
   "source": [
    "stevec = np.square(np.square(m_std)/n_m + np.square(z_std)/n_z)\n",
    "imenovalec = np.square(np.square(m_std)/n_m)/(n_m - 1) + np.square(np.square(z_std)/n_z)/(n_z - 1)\n",
    "v = stevec/imenovalec\n",
    "print(\"v je: \" ,v)"
   ]
  },
  {
   "cell_type": "markdown",
   "metadata": {},
   "source": [
    "Ker je $v$ zelo velik gre Studentova porazdelitev proti normalni. <br>\n",
    "Pri $\\alpha = 0.05$ dobimo $F_{normalna}^{-1}(0.975) = 1.96$ <br>\n",
    "$|T| = 2.285 > 1.96 $ Torej hipotezo zavrnemo. <br>\n",
    "    <br>\n",
    "Pri $\\alpha = 0.01$ dobimo $F_{normalna}^{-1}(0.995) = 2.85$ <br>\n",
    "$|T| = 2.285 < 2.85 $ Torej ni dovolj dokazov, da bi lahko hipotezo zavrnili. <br>"
   ]
  },
  {
   "cell_type": "code",
   "execution_count": null,
   "metadata": {},
   "outputs": [],
   "source": []
  }
 ],
 "metadata": {
  "kernelspec": {
   "display_name": "Python 3",
   "language": "python",
   "name": "python3"
  },
  "language_info": {
   "codemirror_mode": {
    "name": "ipython",
    "version": 3
   },
   "file_extension": ".py",
   "mimetype": "text/x-python",
   "name": "python",
   "nbconvert_exporter": "python",
   "pygments_lexer": "ipython3",
   "version": "3.8.5"
  }
 },
 "nbformat": 4,
 "nbformat_minor": 4
}
